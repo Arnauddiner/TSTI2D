{
 "cells": [
  {
   "cell_type": "markdown",
   "metadata": {},
   "source": [
    "# <div class=\"alert alert-info\" role=\"alert\"> <center>TP Puissance active"
   ]
  },
  {
   "cell_type": "markdown",
   "metadata": {},
   "source": [
    "<div class=\"alert alert-danger\" role=\"alert\">\n",
    "<center><b>Remarque :</b> Pour faire apparaitre les numéros de lignes, cliquer, dans la barre de menu, sur View puis Toggle line Numbers"
   ]
  },
  {
   "cell_type": "markdown",
   "metadata": {},
   "source": [
    "### <div class=\"alert alert-success\" role=\"alert\"> Compléter les lignes 13, 15 et 17 dans le programme ci-dessous puis, exécuter la cellule en cliquant sur le bouton Exécuter."
   ]
  },
  {
   "cell_type": "code",
   "execution_count": null,
   "metadata": {},
   "outputs": [],
   "source": [
    "%matplotlib notebook\n",
    "import numpy as np\n",
    "import matplotlib.pyplot as plt\n",
    "\n",
    "tmin = 0\n",
    "tmax = 20\n",
    "nbx = 20\n",
    "pi=3.1416\n",
    "\n",
    "nbi = nbx - 1 # nombre d'intervalles\n",
    "\n",
    "x = np.linspace(tmin, tmax, nbx)\n",
    "\n",
    "u = 325*np.sin(????*x/1000)\n",
    "\n",
    "i = 5*np.sin(???????*x/1000)\n",
    "\n",
    "p = ????????\n",
    "\n",
    "\n",
    "\n",
    "# pour l'affichage des grandeurs u, i et p \n",
    "\n",
    "# pour fixer la taille de la figure largeur puis hauteur \n",
    "\n",
    "figure = plt.figure(figsize = (6, 7)) \n",
    "\n",
    "\n",
    "\n",
    "plt.subplot(311) # nombre de ligne, de colonne, numero de la figure\n",
    "\n",
    "# affichage de la tension u(t) (bleu)\n",
    "\n",
    "plt.plot(x,u,\"bo-\")\n",
    "\n",
    "plt.ylabel('tension en volt', color=\"blue\")\n",
    "\n",
    "plt.grid()\n",
    "\n",
    "\n",
    "\n",
    "#affichage de l'intensité i(t) (rouge)\n",
    "\n",
    "plt.subplot(312)\n",
    "\n",
    "plt.plot(x,i, \"rx-\")\n",
    "\n",
    "plt.ylabel('intensité en ampère', color=\"red\")\n",
    "\n",
    "plt.grid()\n",
    "\n",
    "\n",
    "\n",
    "# affichage de la tension p(t) (vert)\n",
    "\n",
    "plt.subplot(313)\n",
    "\n",
    "plt.plot(x,p,\"g+-\")\n",
    "\n",
    "plt.xlabel('temps en milliseconde')\n",
    "\n",
    "plt.ylabel('puissance en watt', color=\"green\")\n",
    "\n",
    "plt.grid()\n",
    "\n",
    "\n",
    "\n",
    "integrale = 0\n",
    "\n",
    "for i in range(19):\n",
    "\n",
    "    integrale = integrale + p[i]*(x[i+1]-x[i])\n",
    "\n",
    "    # dessin du rectangle\n",
    "\n",
    "    x_rect = [x[i], x[i], x[i+1], x[i+1], x[i]] # abscisses des sommets\n",
    "\n",
    "    p_rect = [0   , p[i], p[i]  , 0     , 0   ] # ordonnees des sommets\n",
    "\n",
    "    plt.plot(x_rect, p_rect,\"y\")\n",
    "\n",
    "\n",
    "\n",
    "plt.show()\n",
    "\n",
    "print(\"intégrale ou Puissance moyenne =\", round(integrale/tmax), \"W\")"
   ]
  },
  {
   "cell_type": "code",
   "execution_count": null,
   "metadata": {},
   "outputs": [],
   "source": []
  }
 ],
 "metadata": {
  "kernelspec": {
   "display_name": "Python 3",
   "language": "python",
   "name": "python3"
  },
  "language_info": {
   "codemirror_mode": {
    "name": "ipython",
    "version": 3
   },
   "file_extension": ".py",
   "mimetype": "text/x-python",
   "name": "python",
   "nbconvert_exporter": "python",
   "pygments_lexer": "ipython3",
   "version": "3.7.1"
  }
 },
 "nbformat": 4,
 "nbformat_minor": 2
}
